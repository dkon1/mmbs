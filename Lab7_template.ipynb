{
 "cells": [
  {
   "cell_type": "markdown",
   "metadata": {},
   "source": [
    "# Lab 7 -  Act locally: linearize!\n",
    "\n",
    "### Name: \n",
    "### Lab section:"
   ]
  },
  {
   "cell_type": "code",
   "execution_count": 1,
   "metadata": {
    "scrolled": true
   },
   "outputs": [],
   "source": [
    "#Necessary imports\n",
    "import numpy as np #package for work with arrays and matrices\n",
    "import matplotlib.pyplot as plt #package with plotting capabilities\n",
    "from scipy.integrate import ode #ode solver package"
   ]
  },
  {
   "cell_type": "markdown",
   "metadata": {},
   "source": [
    "### Assignment Overview:\n",
    "\n",
    "In this lab, we will *linearize*  nonlinear systems and classify the dynamics near the fixed points. To do this, we use the Jacobian matrix to define a linear system to approximate the dynamics of the nonlinear system in the neighborhood of a fixed point. This allows us to classify the flow around the fixed point using the eigenvectors and eigenvalues of the Jacobian.\n",
    "\n",
    "Here is what you will need to do for each of the models given below:\n",
    "\n",
    "1.  Find the nullclines and the fixed points of the ODE on paper for the specified parameter values and compute the Jacobian matrix for each fixed point using the specified parameter values (this is also a part of the problem set for this week). Write down the results in your answer. Compute the eigenvalues and of the Jacobian with the specified parameter values using python code and classify the flow around each fixed point in your answer.\n",
    "\n",
    "2. Plot the phase portrait of the ODE (using the code from lab 5), and set the size of the window so that your plot includes all the fixed points. Overlay the nullcline plots onto the phase portrait using different colors for different types of nullcline. (Hint: you'll need to create two vectors of \"x\" and \"y\" coordinates for each nullcline to plot them.) \n",
    "\n",
    "3. Use the same code from lab 5 to create a *local* plot of the flow around each fixed point (e.g. using window size of +/- 0.1 in each direction around the fixed point) and compare its appearance with the classification based on the Jacobian in your answer. (Describe whether the flow converges or diverge from the fixed point, whether there is rotation/oscillations in the flow, etc.)\n",
    "\n"
   ]
  },
  {
   "cell_type": "markdown",
   "metadata": {},
   "source": [
    "**Part 1: Competition between species**\n",
    "\n",
    "Two species (figuratively called sheep and rabbits) occupy the same ecological niche and compete with each other. This is represented by the following model:\n",
    "\n",
    "$$ dS/dt = S*(a-S-b*R) $$\n",
    "$$ dR/dt = R*(c-R-d*S) $$\n"
   ]
  },
  {
   "cell_type": "markdown",
   "metadata": {},
   "source": [
    "**Q1.1:**  use a=2; b=1; c=3; d=2"
   ]
  },
  {
   "cell_type": "code",
   "execution_count": null,
   "metadata": {},
   "outputs": [],
   "source": [
    "#your code goes here"
   ]
  },
  {
   "cell_type": "markdown",
   "metadata": {},
   "source": [
    "(your written answer goes here)"
   ]
  },
  {
   "cell_type": "markdown",
   "metadata": {},
   "source": [
    "**Q1.2:** use a=2; b=0.5; c=3; d=1"
   ]
  },
  {
   "cell_type": "code",
   "execution_count": null,
   "metadata": {},
   "outputs": [],
   "source": [
    "#your code goes here"
   ]
  },
  {
   "cell_type": "markdown",
   "metadata": {},
   "source": [
    "(your written answer goes here)"
   ]
  },
  {
   "cell_type": "markdown",
   "metadata": {},
   "source": [
    "### Part 2: Symbiotic relationship between species:\n",
    "A model for two species that interact in a mutually beneficial manner.  Species X dies out in the absence of species Y, while species Y reaches a carrying capacity in the absence of species X:\n",
    "\n",
    "$$  dX/dt = -a*X + b*X*Y $$\n",
    "$$  dY/dt = c*Y*(1-Y) + d*X*Y $$"
   ]
  },
  {
   "cell_type": "markdown",
   "metadata": {},
   "source": [
    "**Q2.1:** use a=1, b=2, c=1, d=3"
   ]
  },
  {
   "cell_type": "code",
   "execution_count": null,
   "metadata": {},
   "outputs": [],
   "source": [
    "#your code goes here"
   ]
  },
  {
   "cell_type": "markdown",
   "metadata": {},
   "source": [
    "(your written answer goes here)"
   ]
  },
  {
   "cell_type": "markdown",
   "metadata": {},
   "source": [
    "**Q2.2:** use a=2, b=1, c=1, d=2"
   ]
  },
  {
   "cell_type": "code",
   "execution_count": 28,
   "metadata": {},
   "outputs": [],
   "source": [
    "#your code goes here"
   ]
  },
  {
   "cell_type": "markdown",
   "metadata": {},
   "source": [
    "(your written answer goes here)"
   ]
  },
  {
   "cell_type": "markdown",
   "metadata": {},
   "source": [
    "### Lotka-Volterra predator-prey model:\n",
    "The following famous model describes dynamics of two species, one of which preys on the other. Assume the prey grows without bound without the predator, and the predators die without the prey. The interaction of predators and prey has a positive effect on the predators, and a negative effect on the prey:\n",
    "\n",
    "$$   dP/dt = -d*P + a*P*R $$\n",
    "$$   dR/dt = c*R - b*P*R $$"
   ]
  },
  {
   "cell_type": "markdown",
   "metadata": {},
   "source": [
    "**Q3.1** use c=2; d=5; a=0.5; b=0.4"
   ]
  },
  {
   "cell_type": "code",
   "execution_count": 2,
   "metadata": {},
   "outputs": [],
   "source": [
    "#your code goes here"
   ]
  },
  {
   "cell_type": "markdown",
   "metadata": {},
   "source": [
    "(your written answer goes here)"
   ]
  },
  {
   "cell_type": "markdown",
   "metadata": {},
   "source": [
    "**Q3.2** use c=10; d=5; a=0.5; b=0.4"
   ]
  },
  {
   "cell_type": "code",
   "execution_count": null,
   "metadata": {},
   "outputs": [],
   "source": [
    "#your code goes here"
   ]
  },
  {
   "cell_type": "markdown",
   "metadata": {},
   "source": [
    "(your written answer goes here)"
   ]
  },
  {
   "cell_type": "markdown",
   "metadata": {},
   "source": [
    "### Rubric:\n",
    "\n",
    "**Part 1:** \n",
    "6 pts per question (2 pts per task)\n",
    "\n",
    "**Part 2:** \n",
    "6 pts per question (2 pts per task)\n",
    "\n",
    "**Part 3:**\n",
    "6 pts per question (2 pts per task)\n",
    "\n",
    "**Total: 36 pts**"
   ]
  }
 ],
 "metadata": {
  "kernelspec": {
   "display_name": "Python 3",
   "language": "python",
   "name": "python3"
  },
  "language_info": {
   "codemirror_mode": {
    "name": "ipython",
    "version": 3
   },
   "file_extension": ".py",
   "mimetype": "text/x-python",
   "name": "python",
   "nbconvert_exporter": "python",
   "pygments_lexer": "ipython3",
   "version": "3.7.3"
  }
 },
 "nbformat": 4,
 "nbformat_minor": 4
}
