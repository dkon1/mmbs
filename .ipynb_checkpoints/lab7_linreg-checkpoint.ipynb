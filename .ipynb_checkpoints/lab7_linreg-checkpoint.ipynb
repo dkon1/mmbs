{
 "cells": [
  {
   "cell_type": "markdown",
   "metadata": {},
   "source": [
    "# Lab 1: Linear regression and data fitting\n",
    "\n",
    "## BIOS 26210 fall 2019\n",
    "## Name: \n",
    "## Section:\n",
    "\n",
    "In this assignment you will write your own functions to perform linear regression and analyze the results.\n"
   ]
  },
  {
   "cell_type": "code",
   "execution_count": 1,
   "metadata": {},
   "outputs": [],
   "source": [
    "# Necessary imports\n",
    "import numpy as np #package for work with arrays and matrices\n",
    "import matplotlib.pyplot as plt #package with plotting capabilities\n",
    "from scipy import stats\n",
    "import pandas as pd"
   ]
  },
  {
   "cell_type": "markdown",
   "metadata": {},
   "source": [
    "## Part 1: linear regression on 2-variable data sets\n",
    "\n",
    "Linear regression is a supervised learning method for predicting the value of a response variable (Y) based on a linear model of the explanatory variable (X). The following scripts illustrate it using the function linregress() from the stats package.\n",
    "\n",
    "First, let us generate a data set with y a linear function of x with known slope and intercept, plus added random noise:"
   ]
  },
  {
   "cell_type": "code",
   "execution_count": 3,
   "metadata": {},
   "outputs": [
    {
     "data": {
      "image/png": "[encoded data removed]",
      "text/plain": [
       "<Figure size 432x288 with 1 Axes>"
      ]
     },
     "metadata": {},
     "output_type": "display_data"
    }
   ],
   "source": [
    "m = 0.4 # slope\n",
    "b = -10 # intercept\n",
    "rng = np.random.RandomState(1)\n",
    "x = 10 * rng.rand(50)\n",
    "y = m * x + b + rng.randn(50)\n",
    "plt.scatter(x, y)\n",
    "plt.show()"
   ]
  },
  {
   "cell_type": "markdown",
   "metadata": {},
   "source": [
    "Ue the LinearRegression function to see whether it returns the correct slope and intercept and how well the line fits the data:"
   ]
  },
  {
   "cell_type": "code",
   "execution_count": 16,
   "metadata": {},
   "outputs": [
    {
     "name": "stdout",
     "output_type": "stream",
     "text": [
      "Model slope:     -1.0285714285714287\n",
      "Model intercept: 10.904761904761905\n",
      "R^2:             0.677351916376307\n"
     ]
    },
    {
     "data": {
      "image/png": "[encoded data removed]",
      "text/plain": [
       "<Figure size 432x288 with 1 Axes>"
      ]
     },
     "metadata": {},
     "output_type": "display_data"
    },
    {
     "name": "stdout",
     "output_type": "stream",
     "text": [
      "Model slope:     0.2\n",
      "Model intercept: 0.19999999999999996\n",
      "R^2:             0.19999999999999998\n",
      "[0.2 0.4 0.6 0.8]\n"
     ]
    }
   ],
   "source": [
    "slope, intercept, r, p_value, std_err = stats.linregress(x,y)\n",
    "\n",
    "print(\"Model slope:    \", slope)\n",
    "print(\"Model intercept:\", intercept)\n",
    "print(\"R^2:            \", r**2)\n",
    "\n",
    "xfit = np.linspace(0, 10, 1000)\n",
    "yfit = xfit*slope + intercept\n",
    "\n",
    "plt.scatter(x, y, label = 'data')\n",
    "plt.plot(xfit, yfit, label = 'model fit')\n",
    "plt.legend()\n",
    "plt.show()"
   ]
  },
  {
   "cell_type": "markdown",
   "metadata": {},
   "source": [
    "### Q1.1 Write your own linear regression function \n",
    "\n",
    "* Inputs: two vectors (X and Y) for the explanatory and response data. Don't forget to check that they are the same length!\n",
    "\n",
    "* DO: calculate  the slope and intercept of the best-fit line, and the coefficient of determination $r^2$.\n",
    "\n",
    "* Outputs: the best-fit slope, intercept, and the coefficient of determination $r^2$.\n",
    "\n",
    "To calculate the slope and intercept, solve the normal equation below, where $\\beta$ is the vector of parameters (slope and intercept), $A$ is the matrix containing a column of x values and a column of ones, $A^T$ is its transpose, and $y$ is the column vector of y values:\n",
    "\n",
    "$$\n",
    "(A^T A) \\beta = A^T y\n",
    "$$\n",
    "\n",
    "To calculate the coefficient of determination, you can use either the definition:\n",
    "\n",
    "$$ r^2 = \\frac{Cov(X,Y)^2}{Var(X)Var(Y)}$$\n",
    "\n",
    "or the fact that the coefficient of determination determines the fraction of variance explained by linear regression:\n",
    "\n",
    "$$ r^2 = \\frac{Var(\\hat Y)}{Var(Y)} $$\n",
    "\n",
    "where $\\hat Y$ is the predicted response values: $\\hat Y = mX + b$\n",
    "\n",
    "You may find the following numpy functions useful for performing array calculations:\n",
    "\n",
    ".T for array transpose\n",
    "\n",
    "np.column_stack() https://docs.scipy.org/doc/numpy/reference/generated/numpy.column_stack.html\n",
    "\n",
    "np.linalg.solve() https://docs.scipy.org/doc/numpy-1.15.1/reference/generated/numpy.linalg.solve.html\n",
    "\n",
    "np.cov() https://docs.scipy.org/doc/numpy-1.15.0/reference/generated/numpy.cov.html\n",
    "\n",
    "np.var() https://docs.scipy.org/doc/numpy-1.15.1/reference/generated/numpy.var.html (Please note you have to specify ddof=1 otherwise variance will be incorrect!)\n",
    "\n",
    "Test your function on the simulated data and make sure it returns the same values as the LinearRegression() function."
   ]
  },
  {
   "cell_type": "code",
   "execution_count": 28,
   "metadata": {},
   "outputs": [
    {
     "name": "stdout",
     "output_type": "stream",
     "text": [
      "[0. 1. 2. 3. 4. 5.]\n",
      "[ 0.00000000e+00  8.66025404e-01 -8.66025404e-01  1.22464680e-16\n",
      "  8.66025404e-01 -8.66025404e-01]\n"
     ]
    },
    {
     "data": {
      "image/png": "[encoded data removed]",
      "text/plain": [
       "<Figure size 432x288 with 1 Axes>"
      ]
     },
     "metadata": {},
     "output_type": "display_data"
    },
    {
     "name": "stdout",
     "output_type": "stream",
     "text": [
      "[0. 1. 2. 3. 4. 5.]\n",
      "[11.62434536  8.88824359  8.47182825  7.42703138  8.86540763  5.1984613 ]\n",
      "(-0.4999999999999998-0.8660254037844388j)\n"
     ]
    },
    {
     "data": {
      "text/plain": [
       "0.8660254037844386"
      ]
     },
     "execution_count": 28,
     "metadata": {},
     "output_type": "execute_result"
    }
   ],
   "source": [
    "x = np.linspace(0,5,6)\n",
    "print(x)\n",
    "y = np.sin(x*2*np.pi/2) + np.sin(x*2*np.pi/3)\n",
    "print(y)\n",
    "\n",
    "m = -0.5 # slope\n",
    "b = 10 # intercept\n",
    "rng = np.random.RandomState(1)\n",
    "x = np.linspace(0,5,6)\n",
    "y = m * x + b + rng.randn(6)\n",
    "plt.scatter(x, y)\n",
    "plt.show()\n",
    "print(x)\n",
    "print(y)\n",
    "print(np.exp(-2j*np.pi/3))\n",
    "np.sqrt(3)/2"
   ]
  },
  {
   "cell_type": "markdown",
   "metadata": {},
   "source": [
    "Answers here"
   ]
  },
  {
   "cell_type": "markdown",
   "metadata": {},
   "source": [
    "### Q1.2 Calculate and plot the residuals\n",
    "\n",
    "Calculate the residuals of the simulated data set and plot them over time. Report whether the plot of the residuals is consistent with the assumptions of linear regression. Calculate the fraction of the variance of the response variable that is in the residuals and relate it to the coefficient of determination $R^2$.\n"
   ]
  },
  {
   "cell_type": "code",
   "execution_count": null,
   "metadata": {},
   "outputs": [],
   "source": [
    "# Code here"
   ]
  },
  {
   "cell_type": "markdown",
   "metadata": {},
   "source": [
    "Answers here"
   ]
  },
  {
   "cell_type": "markdown",
   "metadata": {},
   "source": [
    "## Part 2: Data analysis\n",
    "You will analyze two time series here: one containing the total annual number of passengers flying on Australian air carriers, from 1970 to 2011:"
   ]
  },
  {
   "cell_type": "code",
   "execution_count": 3,
   "metadata": {},
   "outputs": [
    {
     "data": {
      "text/html": [
       "<div>\n",
       "<style scoped>\n",
       "    .dataframe tbody tr th:only-of-type {\n",
       "        vertical-align: middle;\n",
       "    }\n",
       "\n",
       "    .dataframe tbody tr th {\n",
       "        vertical-align: top;\n",
       "    }\n",
       "\n",
       "    .dataframe thead th {\n",
       "        text-align: right;\n",
       "    }\n",
       "</style>\n",
       "<table border=\"1\" class=\"dataframe\">\n",
       "  <thead>\n",
       "    <tr style=\"text-align: right;\">\n",
       "      <th></th>\n",
       "      <th>aussies</th>\n",
       "    </tr>\n",
       "  </thead>\n",
       "  <tbody>\n",
       "    <tr>\n",
       "      <th>0</th>\n",
       "      <td>7.3187</td>\n",
       "    </tr>\n",
       "    <tr>\n",
       "      <th>1</th>\n",
       "      <td>7.3266</td>\n",
       "    </tr>\n",
       "    <tr>\n",
       "      <th>2</th>\n",
       "      <td>7.7956</td>\n",
       "    </tr>\n",
       "    <tr>\n",
       "      <th>3</th>\n",
       "      <td>9.3846</td>\n",
       "    </tr>\n",
       "    <tr>\n",
       "      <th>4</th>\n",
       "      <td>10.6647</td>\n",
       "    </tr>\n",
       "  </tbody>\n",
       "</table>\n",
       "</div>"
      ],
      "text/plain": [
       "   aussies\n",
       "0   7.3187\n",
       "1   7.3266\n",
       "2   7.7956\n",
       "3   9.3846\n",
       "4  10.6647"
      ]
     },
     "execution_count": 3,
     "metadata": {},
     "output_type": "execute_result"
    }
   ],
   "source": [
    "aus = pd.read_csv(\"ausair.csv\")\n",
    "aus.head()"
   ]
  },
  {
   "cell_type": "markdown",
   "metadata": {},
   "source": [
    "And we will compare it with total annual rice production (in millions metric tons) in Guinea, also from 1970 to 2011:"
   ]
  },
  {
   "cell_type": "code",
   "execution_count": 4,
   "metadata": {},
   "outputs": [
    {
     "data": {
      "text/html": [
       "<div>\n",
       "<style scoped>\n",
       "    .dataframe tbody tr th:only-of-type {\n",
       "        vertical-align: middle;\n",
       "    }\n",
       "\n",
       "    .dataframe tbody tr th {\n",
       "        vertical-align: top;\n",
       "    }\n",
       "\n",
       "    .dataframe thead th {\n",
       "        text-align: right;\n",
       "    }\n",
       "</style>\n",
       "<table border=\"1\" class=\"dataframe\">\n",
       "  <thead>\n",
       "    <tr style=\"text-align: right;\">\n",
       "      <th></th>\n",
       "      <th>guinearice</th>\n",
       "    </tr>\n",
       "  </thead>\n",
       "  <tbody>\n",
       "    <tr>\n",
       "      <th>0</th>\n",
       "      <td>0.311405</td>\n",
       "    </tr>\n",
       "    <tr>\n",
       "      <th>1</th>\n",
       "      <td>0.325180</td>\n",
       "    </tr>\n",
       "    <tr>\n",
       "      <th>2</th>\n",
       "      <td>0.339565</td>\n",
       "    </tr>\n",
       "    <tr>\n",
       "      <th>3</th>\n",
       "      <td>0.354580</td>\n",
       "    </tr>\n",
       "    <tr>\n",
       "      <th>4</th>\n",
       "      <td>0.370265</td>\n",
       "    </tr>\n",
       "  </tbody>\n",
       "</table>\n",
       "</div>"
      ],
      "text/plain": [
       "   guinearice\n",
       "0    0.311405\n",
       "1    0.325180\n",
       "2    0.339565\n",
       "3    0.354580\n",
       "4    0.370265"
      ]
     },
     "execution_count": 4,
     "metadata": {},
     "output_type": "execute_result"
    }
   ],
   "source": [
    "rice = pd.read_csv(\"guinearice.csv\")\n",
    "rice.head()"
   ]
  },
  {
   "cell_type": "markdown",
   "metadata": {},
   "source": [
    "**Q2.1** Plot these two variables on a scatterplot against each other. Use your linear regression function to calculate the best-fit line and plot it as well, and report the coefficient of determination. Does this seem like a significant relationship?"
   ]
  },
  {
   "cell_type": "code",
   "execution_count": null,
   "metadata": {},
   "outputs": [],
   "source": []
  },
  {
   "cell_type": "markdown",
   "metadata": {},
   "source": [
    "Your answers here"
   ]
  },
  {
   "cell_type": "markdown",
   "metadata": {},
   "source": [
    "**Q2.2** Calculate and plot the residuals of the linear regression and comment on their plot as well as histogram. How does this change your interpretation of the significance of the linear regression?"
   ]
  },
  {
   "cell_type": "code",
   "execution_count": null,
   "metadata": {},
   "outputs": [],
   "source": []
  },
  {
   "cell_type": "markdown",
   "metadata": {},
   "source": [
    "Your answers here"
   ]
  },
  {
   "cell_type": "markdown",
   "metadata": {},
   "source": [
    "### Grading rubric:\n",
    "\n",
    "Part 1: 10 pts for correctly working linear regression function, 5 pts for correct residual plot and analysis\n",
    "\n",
    "Part 2: 5 pts for scatterplot and linear regression; 5 pts for residual plots and analysis\n",
    "\n",
    "Total: 25 pts"
   ]
  },
  {
   "cell_type": "code",
   "execution_count": null,
   "metadata": {},
   "outputs": [],
   "source": []
  }
 ],
 "metadata": {
  "kernelspec": {
   "display_name": "Python 3",
   "language": "python",
   "name": "python3"
  },
  "language_info": {
   "codemirror_mode": {
    "name": "ipython",
    "version": 3
   },
   "file_extension": ".py",
   "mimetype": "text/x-python",
   "name": "python",
   "nbconvert_exporter": "python",
   "pygments_lexer": "ipython3",
   "version": "3.7.3"
  }
 },
 "nbformat": 4,
 "nbformat_minor": 4
}
