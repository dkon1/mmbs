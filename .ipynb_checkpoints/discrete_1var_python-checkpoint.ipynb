{
 "cells": [
  {
   "cell_type": "markdown",
   "metadata": {},
   "source": [
    "## Plotting in Python\n",
    "\n",
    "You can find an introduction to the plotting library matplotlib here: <https://matplotlib.org/tutorials/introductory/pyplot.html>"
   ]
  },
  {
   "cell_type": "code",
   "execution_count": 2,
   "metadata": {},
   "outputs": [],
   "source": [
    "# Import packages\n",
    "import numpy as np # package for work with arrays and matrices\n",
    "import matplotlib.pyplot as plt # package with plotting capabilities"
   ]
  },
  {
   "cell_type": "markdown",
   "metadata": {},
   "source": [
    "### arrays and basic plotting\n",
    "\n",
    "Here is an example of performing calculations with arrays (vectors) of values and plotting the results: "
   ]
  },
  {
   "cell_type": "code",
   "execution_count": 4,
   "metadata": {
    "scrolled": true
   },
   "outputs": [
    {
     "name": "stdout",
     "output_type": "stream",
     "text": [
      "(100,)\n"
     ]
    },
    {
     "data": {
      "image/png": "[encoded data removed]",
      "text/plain": [
       "<Figure size 432x288 with 1 Axes>"
      ]
     },
     "metadata": {
      "needs_background": "light"
     },
     "output_type": "display_data"
    }
   ],
   "source": [
    "x = np.arange(0,10,0.1) # create an array of numbers between 0 and 10 with step 0.1\n",
    "print(np.shape(x))\n",
    "y = (x-5)**2 # do calculations on all the array values, call it y\n",
    "plt.plot(x,y) # plot x vs y\n",
    "plt.show()"
   ]
  },
  {
   "cell_type": "markdown",
   "metadata": {},
   "source": [
    "A two dimensional array (matrix) can be defined as follows, and the function np.shape prints out the number of rows and columns in the matrix:"
   ]
  },
  {
   "cell_type": "code",
   "execution_count": 5,
   "metadata": {},
   "outputs": [
    {
     "name": "stdout",
     "output_type": "stream",
     "text": [
      "(2, 3)\n",
      "[[1 2 3]\n",
      " [4 5 6]]\n"
     ]
    }
   ],
   "source": [
    "x = np.array([[1,2,3],[4,5,6]])\n",
    "print(np.shape(x))\n",
    "print(x)"
   ]
  },
  {
   "cell_type": "markdown",
   "metadata": {},
   "source": [
    "Strings to make text for plots\n",
    "An example of concatenating a text string together with a numeric variable, which can then be used for labels or legends in plots:"
   ]
  },
  {
   "cell_type": "code",
   "execution_count": 17,
   "metadata": {},
   "outputs": [
    {
     "name": "stdout",
     "output_type": "stream",
     "text": [
      "The value of prob is 0.5\n"
     ]
    }
   ],
   "source": [
    "prob = 0.5\n",
    "string1 = 'The value of prob is ' + str(prob)\n",
    "print(string1)"
   ]
  },
  {
   "cell_type": "markdown",
   "metadata": {},
   "source": [
    "## Numeric solutions of discrete models\n",
    "\n",
    "Difference equations, as we saw above, can be written in the form of $x_{t+1} = f(x_t)$. At every step, the model takes the current value of the dependent variable $x_t$, feeds it into the function $f(x)$, and takes the output as the next value $x_{t+1}$. The same process repeats every iteration, which is why difference equations written in this form are called *iterated maps*.\n",
    "\n",
    "Computers are naturally suited for precise, repetitive operations. In our first example of a computational algorithm, we will iterate a given function to produce a sequence of values of the dependent variable $x$. We only need two things: to specify a computer function $f(x)$, which returns the value of the iterated map for any input value $x$, and the initial value $x_0$. Then it is a matter of repeating the operation of evaluating $f(x_t)$ and storing it as the next value $x_{t+1}$. Below is the pseudocode for the algorithm. Note that I will use arrows to indicated variable assignment, square brackets $[]$ for indexing of\n",
    "vector, and start indexing at 0, consistent with python convention.\n",
    "\n",
    "```{admonition} Iterative solution of difference equations\n",
    ":class: tip \n",
    " * define the iterated map function $F(x)$ \n",
    " * set $N$ to be the number of iterations (time steps) \n",
    " * set the initial condition $x_0$\n",
    " * initialize array $x$ with initial value $x_0$\n",
    " * for $i$ from 0 to $N-1$\n",
    "   - $x[i+1] \\gets F(x[i])$\n",
    "```\n",
    "\n",
    "The resulting sequence of values $x_0, x_1, x_2, ... , x_N$ is called a *numeric solution* of the given difference equation. It has two disadvantages compared to an analytic solution: first, the solution can only be obtained for a specific initial value and number of iterations, and second, any computer simulation inevitably introduces some errors, for instance from round-off. In practice, however, most complex dynamical systems have to solved numerically, as analytical solutions are difficult or impossible to find.\n",
    "\n",
    "### using for loops for iterative solutions of dynamic models\n",
    "\n",
    "Here is a generic linear demographic model\n",
    "\n",
    "$$ \n",
    "x(t+1) = x(t) + bx(t) - dx(t) = rx(t)\n",
    "$$\n",
    "\n",
    "Example of a script for producing a numeric solution of a discrete time dynamic model:"
   ]
  },
  {
   "cell_type": "code",
   "execution_count": null,
   "metadata": {},
   "outputs": [],
   "source": [
    "numsteps = 20 # number of iterations\n",
    "birth = 0.8 # birth rate\n",
    "death =  0.5 # death rate\n",
    "pop = np.zeros(numsteps+1) # initialize solution array\n",
    "pop[0] = 1 # initial value \n",
    "t = np.arange(numsteps+1) # initialze time vector\n",
    "print(t)\n",
    "for i in range(numsteps):\n",
    "     pop[i+1] = pop[i] + birth*pop[i] - death*pop[i]# linear demographic model\n",
    "plt.plot(t, pop) # plot solution\n",
    "plt.xlabel('time')\n",
    "plt.ylabel('population')\n",
    "title = 'Solution with birth rate ' + str(birth) + ' and death rate ' + str(death)\n",
    "plt.title(title) \n",
    "plt.show()"
   ]
  },
  {
   "cell_type": "markdown",
   "metadata": {},
   "source": [
    "### Plotting multiple curves with a legend\n",
    "\n",
    "Multiple solution plots can be overlayed on the same figure, as long as the plt.show() is only used once in the end. For multiple graphs it's best to use multiple colors and a legend to label different curves, using the option label in the plt.plot function and adding the function plt.legend() before producing the figure. Here's an example with solutions of the demographic model with different death rates:"
   ]
  },
  {
   "cell_type": "code",
   "execution_count": null,
   "metadata": {},
   "outputs": [],
   "source": [
    "numsteps = 20 # number of iterations\n",
    "birth = 0.8 # birth rate\n",
    "death =  0.5 # death rate\n",
    "pop = np.zeros(numsteps+1) # initialize solution array\n",
    "pop[0] = 1 # initial value \n",
    "t = np.arange(numsteps+1) # initialze time vector\n",
    "for i in range(numsteps):\n",
    "     pop[i+1] = pop[i] + birth*pop[i] - death*pop[i]# linear demographic model\n",
    "\n",
    "plt.plot(t, pop, label = 'd = '+str(death)) # plot solution\n",
    "plt.xlabel('time')\n",
    "plt.ylabel('population')\n",
    "\n",
    "death =  0.6 # death rate\n",
    "pop = np.zeros(numsteps+1) # initialize solution array\n",
    "pop[0] = 1 # initial value \n",
    "t = np.arange(numsteps+1) # initialze time vector\n",
    "for i in range(numsteps):\n",
    "     pop[i+1] = pop[i] + birth*pop[i] - death*pop[i]# linear demographic model\n",
    "plt.plot(t, pop, label = 'd = '+str(death)) # plot solution\n",
    "\n",
    "title = 'Population with varying death rates'\n",
    "plt.title(title) \n",
    "plt.legend()\n",
    "plt.show()"
   ]
  },
  {
   "cell_type": "markdown",
   "metadata": {},
   "source": [
    "### Random number generators\n",
    "\n",
    "Numpy provides a varietry of random number generators, and we'll use these functions in the course for many purposes. Here is an example of producing arrays of random normally distributed numbers. The function requires inputs of the mean, the standard deviation, and the number of random values (or size of the array):"
   ]
  },
  {
   "cell_type": "code",
   "execution_count": null,
   "metadata": {},
   "outputs": [],
   "source": [
    "mu = 5\n",
    "sigma = 0.5\n",
    "num = 30\n",
    "norm_sample = np.random.normal(mu, sigma, num)\n",
    "print(norm_sample)\n",
    "print(\"The mean of the sample is \" + str(np.mean(norm_sample)))\n",
    "print(\"The standard deviation of the sample is \" + str(np.std(norm_sample)))"
   ]
  }
 ],
 "metadata": {
  "kernelspec": {
   "display_name": "Python 3",
   "language": "python",
   "name": "python3"
  },
  "language_info": {
   "codemirror_mode": {
    "name": "ipython",
    "version": 3
   },
   "file_extension": ".py",
   "mimetype": "text/x-python",
   "name": "python",
   "nbconvert_exporter": "python",
   "pygments_lexer": "ipython3",
   "version": "3.7.3"
  }
 },
 "nbformat": 4,
 "nbformat_minor": 4
}
