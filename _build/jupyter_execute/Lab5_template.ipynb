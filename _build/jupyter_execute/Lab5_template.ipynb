{
 "cells": [
  {
   "cell_type": "markdown",
   "metadata": {},
   "source": [
    "# Lab 5 - Linear oscillations and forces\n",
    "\n",
    "### Name: \n",
    "### Lab section:"
   ]
  },
  {
   "cell_type": "code",
   "execution_count": 1,
   "metadata": {
    "scrolled": true
   },
   "outputs": [
    {
     "ename": "ModuleNotFoundError",
     "evalue": "No module named 'scipy'",
     "output_type": "error",
     "traceback": [
      "\u001b[0;31m---------------------------------------------------------------------------\u001b[0m",
      "\u001b[0;31mModuleNotFoundError\u001b[0m                       Traceback (most recent call last)",
      "\u001b[0;32m<ipython-input-1-e9c1c349f2d8>\u001b[0m in \u001b[0;36m<module>\u001b[0;34m\u001b[0m\n\u001b[1;32m      2\u001b[0m \u001b[0;32mimport\u001b[0m \u001b[0mnumpy\u001b[0m \u001b[0;32mas\u001b[0m \u001b[0mnp\u001b[0m \u001b[0;31m#package for work with arrays and matrices\u001b[0m\u001b[0;34m\u001b[0m\u001b[0;34m\u001b[0m\u001b[0m\n\u001b[1;32m      3\u001b[0m \u001b[0;32mimport\u001b[0m \u001b[0mmatplotlib\u001b[0m\u001b[0;34m.\u001b[0m\u001b[0mpyplot\u001b[0m \u001b[0;32mas\u001b[0m \u001b[0mplt\u001b[0m \u001b[0;31m#package with plotting capabilities\u001b[0m\u001b[0;34m\u001b[0m\u001b[0;34m\u001b[0m\u001b[0m\n\u001b[0;32m----> 4\u001b[0;31m \u001b[0;32mfrom\u001b[0m \u001b[0mscipy\u001b[0m\u001b[0;34m.\u001b[0m\u001b[0mintegrate\u001b[0m \u001b[0;32mimport\u001b[0m \u001b[0mode\u001b[0m \u001b[0;31m#ode solver package\u001b[0m\u001b[0;34m\u001b[0m\u001b[0;34m\u001b[0m\u001b[0m\n\u001b[0m",
      "\u001b[0;31mModuleNotFoundError\u001b[0m: No module named 'scipy'"
     ]
    }
   ],
   "source": [
    "#Necessary imports\n",
    "import numpy as np #package for work with arrays and matrices\n",
    "import matplotlib.pyplot as plt #package with plotting capabilities\n",
    "from scipy.integrate import ode #ode solver package"
   ]
  },
  {
   "cell_type": "markdown",
   "metadata": {},
   "source": [
    "### Assignment Overview:\n",
    "\n",
    "\n",
    "In this week's lab, you will use ode solutions to investigate linear oscillator models. In part 1, you will see models of a single oscillator and in part 2, we will add damping and analyze the resulting dynamics. You will need to modify and use the code given to you in lab 4 to solve the second-order ODEs. \n",
    "\n",
    "\n"
   ]
  },
  {
   "cell_type": "markdown",
   "metadata": {},
   "source": [
    "**Part 1: Harmonic oscillator**\n",
    "\n",
    "\n",
    "We saw in class that we can write the 2nd order harmonic oscillator ODE \n",
    "\n",
    "$$m \\ddot x  = -k x $$\n",
    "\n",
    "as two 1st order ODEs (setting mass to 1):\n",
    "\n",
    "$$ dy/dt = -k x $$\n",
    "$$ dx/dt = y $$\n",
    "\n",
    "Take the code for defining and solving ODE from part 2 of lab 4 and modify it to represent the harmonic oscillator ODE above (remember to change all the parameters to match the ones used in this ODE.)  Use the code from lab 4 as a template to do these tasks with the following parameters: \n",
    "\n",
    " - Calulate the eigenvalues of the defining matrix of the 2-variable ODE, and classify the dynamics of the solutions \n",
    " - Make a phase plane plot for a harmonic oscillator and plot four solution rajectories, starting at different initial values (use a for loop, like you did in lab 4)\n",
    " - Plot the solutions for x (position) as a function of time and report the period of oscillations."
   ]
  },
  {
   "cell_type": "markdown",
   "metadata": {},
   "source": [
    "**Q1.1:** set k = pi^2"
   ]
  },
  {
   "cell_type": "code",
   "execution_count": null,
   "metadata": {},
   "outputs": [],
   "source": [
    "#your code goes here"
   ]
  },
  {
   "cell_type": "markdown",
   "metadata": {},
   "source": [
    "(your written answer goes here)"
   ]
  },
  {
   "cell_type": "markdown",
   "metadata": {},
   "source": [
    "**Q1.2:** set k = 4*pi^2"
   ]
  },
  {
   "cell_type": "code",
   "execution_count": null,
   "metadata": {},
   "outputs": [],
   "source": [
    "#your code goes here"
   ]
  },
  {
   "cell_type": "markdown",
   "metadata": {},
   "source": [
    "(your written answer goes here)"
   ]
  },
  {
   "cell_type": "markdown",
   "metadata": {},
   "source": [
    "**Q1.3:** set k = 0.25*pi^2"
   ]
  },
  {
   "cell_type": "code",
   "execution_count": null,
   "metadata": {},
   "outputs": [],
   "source": [
    "#your code goes here"
   ]
  },
  {
   "cell_type": "markdown",
   "metadata": {},
   "source": [
    "(your written answer goes here)"
   ]
  },
  {
   "cell_type": "markdown",
   "metadata": {},
   "source": [
    "**Q1.4:** Based on your observations, determine the value of k that would produce oscillations with period 5. Repeat the same calculations performed above and demonstrate that the solutions has the required period of oscillations."
   ]
  },
  {
   "cell_type": "code",
   "execution_count": null,
   "metadata": {},
   "outputs": [],
   "source": [
    "#your code goes here"
   ]
  },
  {
   "cell_type": "markdown",
   "metadata": {},
   "source": [
    "(your written answer goes here)"
   ]
  },
  {
   "cell_type": "markdown",
   "metadata": {},
   "source": [
    "### Part 2: Damped harmonic oscillator\n",
    "For an oscillator with a frictional force which acts in the opposite direction of motion with a constant b, we get the following equation:\n",
    " $$ dy/dt = -kx -by$$\n",
    " $$ dx/dt = y $$\n",
    "\n",
    "Use the code from lab 4 as a template to do these tasks with the following parameters: \n",
    "\n",
    " - Calulate the eigenvalues of the defining matrix of the 2-variable ODE, and classify the dynamics of the solutions \n",
    " - Make a phase plane plot for a harmonic oscillator and plot four solution rajectories, starting at different initial values (use a for loop, like you did in lab 4)\n",
    " - Plot the solutions for x (position) as a function of time and compare its behavior to the undamped oscillator in part 1 with the same spring constant."
   ]
  },
  {
   "cell_type": "markdown",
   "metadata": {},
   "source": [
    "**Q2.1:** Set k = pi^2 and choose a value of b so that the oscillator is *underdamped*. "
   ]
  },
  {
   "cell_type": "code",
   "execution_count": null,
   "metadata": {},
   "outputs": [],
   "source": [
    "#your code goes here"
   ]
  },
  {
   "cell_type": "markdown",
   "metadata": {},
   "source": [
    "(your written answer goes here)"
   ]
  },
  {
   "cell_type": "markdown",
   "metadata": {},
   "source": [
    "**Q2.2:** Set k = pi^2 and choose a value of b so that the oscillator is  *overdamped*. "
   ]
  },
  {
   "cell_type": "code",
   "execution_count": null,
   "metadata": {},
   "outputs": [],
   "source": [
    "#your code goes here"
   ]
  },
  {
   "cell_type": "markdown",
   "metadata": {},
   "source": [
    "(your written answer goes here)"
   ]
  },
  {
   "cell_type": "markdown",
   "metadata": {},
   "source": [
    "**Q2.3:** Set k = pi^2 and choose a value of b so that the oscillator is *critically damped*. "
   ]
  },
  {
   "cell_type": "code",
   "execution_count": null,
   "metadata": {},
   "outputs": [],
   "source": [
    "#your code goes here"
   ]
  },
  {
   "cell_type": "markdown",
   "metadata": {},
   "source": [
    "(your written answer goes here)"
   ]
  },
  {
   "cell_type": "markdown",
   "metadata": {},
   "source": [
    "**Q2.4:** Set k = 4* pi^2 and choose a value of b so that the oscillator is *underdamped*. "
   ]
  },
  {
   "cell_type": "code",
   "execution_count": null,
   "metadata": {},
   "outputs": [],
   "source": [
    "#your code goes here"
   ]
  },
  {
   "cell_type": "markdown",
   "metadata": {},
   "source": [
    "(your written answer goes here)"
   ]
  },
  {
   "cell_type": "markdown",
   "metadata": {},
   "source": [
    "**Q2.5:** Set k = 4* pi^2 and choose a value of b so that the oscillator is  *overdamped*. "
   ]
  },
  {
   "cell_type": "code",
   "execution_count": null,
   "metadata": {},
   "outputs": [],
   "source": [
    "#your code goes here"
   ]
  },
  {
   "cell_type": "markdown",
   "metadata": {},
   "source": [
    "(your written answer goes here)"
   ]
  },
  {
   "cell_type": "markdown",
   "metadata": {},
   "source": [
    "**Q2.6:** k = 4* pi^2 and choose a value of b so that the oscillator is critically damped."
   ]
  },
  {
   "cell_type": "code",
   "execution_count": null,
   "metadata": {},
   "outputs": [],
   "source": [
    "#your code goes here"
   ]
  },
  {
   "cell_type": "markdown",
   "metadata": {},
   "source": [
    "(your written answer goes here) "
   ]
  },
  {
   "cell_type": "markdown",
   "metadata": {},
   "source": [
    "### Rubric:\n",
    "\n",
    "**Part 1:** \n",
    "4 pts per question: eigenvalues, phase plane, time plot, answers\n",
    "\n",
    "**Part 2:** \n",
    "4 pts per question: eigenvalues, phase plane, time plot, answers\n",
    "\n",
    "**Total: 40 pts**\n"
   ]
  }
 ],
 "metadata": {
  "kernelspec": {
   "display_name": "Python 3",
   "language": "python",
   "name": "python3"
  },
  "language_info": {
   "codemirror_mode": {
    "name": "ipython",
    "version": 3
   },
   "file_extension": ".py",
   "mimetype": "text/x-python",
   "name": "python",
   "nbconvert_exporter": "python",
   "pygments_lexer": "ipython3",
   "version": "3.7.3"
  }
 },
 "nbformat": 4,
 "nbformat_minor": 2
}