{
 "cells": [
  {
   "cell_type": "markdown",
   "metadata": {},
   "source": [
    "# Lab 6 explore: time series frequency analysis\n",
    "\n",
    "### Name\n",
    "\n",
    "### Lab section"
   ]
  },
  {
   "cell_type": "code",
   "execution_count": 1,
   "metadata": {},
   "outputs": [
    {
     "data": {
      "text/html": [
       "<div>\n",
       "<style scoped>\n",
       "    .dataframe tbody tr th:only-of-type {\n",
       "        vertical-align: middle;\n",
       "    }\n",
       "\n",
       "    .dataframe tbody tr th {\n",
       "        vertical-align: top;\n",
       "    }\n",
       "\n",
       "    .dataframe thead th {\n",
       "        text-align: right;\n",
       "    }\n",
       "</style>\n",
       "<table border=\"1\" class=\"dataframe\">\n",
       "  <thead>\n",
       "    <tr style=\"text-align: right;\">\n",
       "      <th></th>\n",
       "      <th>Year</th>\n",
       "      <th>Hare</th>\n",
       "      <th>Lynx</th>\n",
       "    </tr>\n",
       "  </thead>\n",
       "  <tbody>\n",
       "    <tr>\n",
       "      <th>0</th>\n",
       "      <td>1845</td>\n",
       "      <td>19580</td>\n",
       "      <td>30090</td>\n",
       "    </tr>\n",
       "    <tr>\n",
       "      <th>1</th>\n",
       "      <td>1846</td>\n",
       "      <td>19600</td>\n",
       "      <td>45150</td>\n",
       "    </tr>\n",
       "    <tr>\n",
       "      <th>2</th>\n",
       "      <td>1847</td>\n",
       "      <td>19610</td>\n",
       "      <td>49150</td>\n",
       "    </tr>\n",
       "    <tr>\n",
       "      <th>3</th>\n",
       "      <td>1848</td>\n",
       "      <td>11990</td>\n",
       "      <td>39520</td>\n",
       "    </tr>\n",
       "    <tr>\n",
       "      <th>4</th>\n",
       "      <td>1849</td>\n",
       "      <td>28040</td>\n",
       "      <td>21230</td>\n",
       "    </tr>\n",
       "  </tbody>\n",
       "</table>\n",
       "</div>"
      ],
      "text/plain": [
       "   Year   Hare   Lynx\n",
       "0  1845  19580  30090\n",
       "1  1846  19600  45150\n",
       "2  1847  19610  49150\n",
       "3  1848  11990  39520\n",
       "4  1849  28040  21230"
      ]
     },
     "execution_count": 1,
     "metadata": {},
     "output_type": "execute_result"
    }
   ],
   "source": [
    "#Necessary imports\n",
    "import numpy as np #package for work with arrays and matrices -- this week including some linear algebra\n",
    "import matplotlib.pyplot as plt #package with plotting capabilities\n",
    "\n",
    "import pandas as pd\n",
    "pelts = pd.read_csv(\"pelt_data.csv\")\n",
    "pelts.head()"
   ]
  },
  {
   "cell_type": "markdown",
   "metadata": {},
   "source": [
    "## Part 1: noise vs. signal\n",
    "\n",
    "The following script generates a fake signal with periodic components and a noise term, performs a Fourier tranform and plots the power spectrum of the frequencies:"
   ]
  },
  {
   "cell_type": "code",
   "execution_count": 10,
   "metadata": {},
   "outputs": [
    {
     "data": {
      "image/png": "[encoded data removed]",
      "text/plain": [
       "<Figure size 432x288 with 2 Axes>"
      ]
     },
     "metadata": {
      "needs_background": "light"
     },
     "output_type": "display_data"
    }
   ],
   "source": [
    "Fs = 60.0  # sampling rate\n",
    "Ts = 1.0/Fs # sampling interval\n",
    "Max_time = 2.0 # duration of the signal\n",
    "t = np.arange(0,Max_time,Ts) # time vector\n",
    "n = len(t) # length of time vector\n",
    "\n",
    "# generate a signal with different frequencies\n",
    "ff1 = 5   # frequency 1 of the signal\n",
    "ff2 = 25   # frequency 2 of the signal\n",
    "w1 = 5 # weight of frequency 1\n",
    "w2 = 5 # weight of frequency 2\n",
    "w3 = 2 # weight of noise\n",
    "mu = 0 # mean value\n",
    "sigma = 0.5 # standard deviation\n",
    "fake_signal = w1*np.sin(2*np.pi*ff1*t)+ w2*np.sin(2*np.pi*ff2*t) + w3*np.random.normal(mu, sigma, n)\n",
    "\n",
    "# frequency stuff\n",
    "k = np.arange(n) # all the frequency indices\n",
    "frq = k/Max_time  # two sides frequency range\n",
    "num_freq = np.arange(np.ceil(n/2).astype(int)) # number of frequencies\n",
    "frq = frq[num_freq] # non-redundant frequency range\n",
    "\n",
    "# FFT and power spectrum calculations\n",
    "Y = np.fft.fft(fake_signal)/n # fft computing and normalization\n",
    "Y = Y[num_freq]\n",
    "ps = np.abs(Y)**2 # power spectrum\n",
    "\n",
    "# plotting the signal and the power spectrum\n",
    "fig, ax = plt.subplots(2, 1)\n",
    "ax[0].plot(t,fake_signal)\n",
    "ax[0].set_xlabel('Time')\n",
    "ax[0].set_ylabel('Amplitude')\n",
    "ax[1].plot(frq,ps[num_freq],'r') # plotting the power spectrum\n",
    "ax[1].set_xlabel('Freq (Hz)')\n",
    "ax[1].set_ylabel('|Y(freq)^2|')\n",
    "plt.show()"
   ]
  },
  {
   "cell_type": "markdown",
   "metadata": {},
   "source": [
    "Experiment with the code above by increasing the noise weight (variable w3) and report what effect it has on the power spectrum. At what point does the power spectrum no longer have distinguishable frequency peaks for the two periodic components?"
   ]
  },
  {
   "cell_type": "markdown",
   "metadata": {},
   "source": [
    "## Part 2: frequency spectrum of the hare and lynx pelt data\n",
    "\n",
    "Plot the values of hare and lynx pelts contained in the pandas (data frame) pelts as a function of time (Hint: variables in pandas are accessed with a period. e.g. pandas.variable). Then perform Fourier frequency analysis of the two variables (using the above script as a template) and plot the power spectra. Describe the features of the power spectrum in terms of the dominant frequency and any trends or noise. "
   ]
  },
  {
   "cell_type": "code",
   "execution_count": 4,
   "metadata": {},
   "outputs": [
    {
     "data": {
      "text/plain": [
       "0          NaN\n",
       "1          NaN\n",
       "2      19580.0\n",
       "3      19600.0\n",
       "4      19610.0\n",
       "5      11990.0\n",
       "6      28040.0\n",
       "7      58000.0\n",
       "8      74600.0\n",
       "9      75090.0\n",
       "10     88480.0\n",
       "11     61280.0\n",
       "12     74670.0\n",
       "13     88060.0\n",
       "14     68510.0\n",
       "15     32190.0\n",
       "16     12640.0\n",
       "17     21490.0\n",
       "18     30350.0\n",
       "19      2180.0\n",
       "20    152650.0\n",
       "21    148360.0\n",
       "22     85810.0\n",
       "23     41410.0\n",
       "24     14750.0\n",
       "25      2280.0\n",
       "26      5910.0\n",
       "27      9950.0\n",
       "28     10440.0\n",
       "29     70640.0\n",
       "        ...   \n",
       "61     69720.0\n",
       "62     57780.0\n",
       "63     28680.0\n",
       "64     23370.0\n",
       "65     21540.0\n",
       "66     26340.0\n",
       "67     53100.0\n",
       "68     68480.0\n",
       "69     75580.0\n",
       "70     57920.0\n",
       "71     40970.0\n",
       "72     24950.0\n",
       "73     12590.0\n",
       "74      4970.0\n",
       "75      4500.0\n",
       "76     11210.0\n",
       "77     56600.0\n",
       "78     69630.0\n",
       "79     77740.0\n",
       "80     80530.0\n",
       "81     73380.0\n",
       "82     36930.0\n",
       "83      4640.0\n",
       "84      2540.0\n",
       "85      1800.0\n",
       "86      2390.0\n",
       "87      4230.0\n",
       "88     19520.0\n",
       "89     82110.0\n",
       "90     89760.0\n",
       "Name: Hare, Length: 91, dtype: float64"
      ]
     },
     "execution_count": 4,
     "metadata": {},
     "output_type": "execute_result"
    }
   ],
   "source": [
    "pelts.Hare.shift(2)\n",
    "slope, intercept, r, p_value, std_err = stats.linregress(pelts.Hare.shift(1), pelts.Hare.shif)\n",
    "print(\"Model slope:    \", slope)\n",
    "print(\"Model intercept:\", intercept)\n",
    "print(\"R^2:            \", r**2)"
   ]
  },
  {
   "cell_type": "code",
   "execution_count": null,
   "metadata": {},
   "outputs": [],
   "source": []
  },
  {
   "cell_type": "code",
   "execution_count": null,
   "metadata": {},
   "outputs": [],
   "source": []
  }
 ],
 "metadata": {
  "kernelspec": {
   "display_name": "Python 3",
   "language": "python",
   "name": "python3"
  },
  "language_info": {
   "codemirror_mode": {
    "name": "ipython",
    "version": 3
   },
   "file_extension": ".py",
   "mimetype": "text/x-python",
   "name": "python",
   "nbconvert_exporter": "python",
   "pygments_lexer": "ipython3",
   "version": "3.7.3"
  }
 },
 "nbformat": 4,
 "nbformat_minor": 4
}
